{
 "cells": [
  {
   "cell_type": "code",
   "execution_count": 2,
   "metadata": {},
   "outputs": [
    {
     "name": "stdout",
     "output_type": "stream",
     "text": [
      "The best position found is: tensor([2.8577, 5.5391])\n",
      "The minimum value of the function is: 685.8092651367188\n",
      "records: torch.Size([107, 2])\n"
     ]
    },
    {
     "data": {
      "text/plain": [
       "<matplotlib.collections.PathCollection at 0x19a137322c0>"
      ]
     },
     "execution_count": 2,
     "metadata": {},
     "output_type": "execute_result"
    },
    {
     "data": {
      "image/png": "[encoded data removed]",
      "text/plain": [
       "<Figure size 640x480 with 1 Axes>"
      ]
     },
     "metadata": {},
     "output_type": "display_data"
    }
   ],
   "source": [
    "import torch\n",
    "import random\n",
    "import matplotlib.pyplot as plt\n",
    "inertia_weight = 0.1  # Inertia weight\n",
    "c1_weight = 1    # Cognitive (particle's best) weight\n",
    "c2_weight = 2    # Social (swarm's best) weight\n",
    "\n",
    "a = 1.3\n",
    "b = 99.0\n",
    "# (a,a^2有极小值)\n",
    "def fintess(x):\n",
    "    return (a - x[0])**2 + b * (x[1] - x[0]**2)**2\n",
    "\n",
    "# HACK 用来绘制图像\n",
    "history_best_records = torch.tensor([[-1, -1]])\n",
    "\n",
    "def stack_in_records(t):\n",
    "    global history_best_records\n",
    "    history_best_records = torch.cat((history_best_records, t.unsqueeze(0)), dim=0)\n",
    "\n",
    "# Particle class\n",
    "class Particle:\n",
    "    def __init__(self, x0):\n",
    "        self.position = x0\n",
    "        self.velocity = random.uniform(-1, 1)\n",
    "        self.best_position = x0\n",
    "        self.best_value = fintess(x0)\n",
    "\n",
    "    def update_velocity(self, global_best_position):\n",
    "\n",
    "        r1 = random.random()\n",
    "        r2 = random.random()\n",
    "\n",
    "        cognitive_velocity = c1_weight * r1 * (self.best_position - self.position)\n",
    "        social_velocity = c2_weight * r2 * (global_best_position - self.position)\n",
    "        self.velocity = inertia_weight * self.velocity + cognitive_velocity + social_velocity\n",
    "\n",
    "    def move(self):\n",
    "        self.position += self.velocity\n",
    "        value = fintess(self.position)\n",
    "\n",
    "        if value < self.best_value:\n",
    "            self.best_position = self.position\n",
    "            self.best_value = value\n",
    "\n",
    "\n",
    "# PSO algorithm\n",
    "def algorithm(particle_vals, num_iterations):\n",
    "    particles = [Particle(particle_vals[i]) for i in range(len(particle_vals))]\n",
    "    global_best_position = min(particles, key=lambda p: p.best_value).position\n",
    "\n",
    "    counter = 0\n",
    "    for _ in range(num_iterations):\n",
    "        for particle in particles:\n",
    "            particle.update_velocity(global_best_position)\n",
    "            particle.move()\n",
    "\n",
    "            if particle.best_value < fintess(global_best_position):\n",
    "                global_best_position = particle.best_position\n",
    "                if counter >= 20:\n",
    "                    counter = 0\n",
    "                    stack_in_records(global_best_position)\n",
    "                counter+=1\n",
    "\n",
    "\n",
    "    return global_best_position\n",
    "\n",
    "# 生成初始参数规定范围，\n",
    "minV, maxV = -100.0, 100.0\n",
    "size = [2]\n",
    "\n",
    "particle_num = 100\n",
    "iteratons = 50\n",
    "poses = [torch.rand(size) * (maxV - minV) + minV for i in range(particle_num)]\n",
    "\n",
    "# Running PSO\n",
    "best_position = algorithm(poses, iteratons)\n",
    "print(f\"The best position found is: {best_position}\")\n",
    "print(f\"The minimum value of the function is: {fintess(best_position)}\")\n",
    "print(f\"records: {history_best_records.shape}\")\n",
    "# 使用 torch.chunk 分割张量\n",
    "x, y = torch.chunk(history_best_records, 2, dim=1)  # 在第二个维度上将张量分成2块\n",
    "x = x.squeeze(dim=1).numpy()\n",
    "y = y.squeeze(dim=1).numpy()\n",
    "plt.scatter(x, y)"
   ]
  },
  {
   "cell_type": "code",
   "execution_count": null,
   "metadata": {},
   "outputs": [],
   "source": [
    "\n",
    "\n",
    "import numpy as np\n",
    "import matplotlib.pyplot as plt\n",
    "\n",
    "# Data\n",
    "x = np.linspace(0, 10, 100)\n",
    "y = np.sin(x)\n",
    "\n",
    "# Plot\n",
    "plt.plot(x, y, '-r', label='sin(x)')  # '-r' is a red solid line\n",
    "\n",
    "# Customization\n",
    "plt.title(\"Sin Wave\")\n",
    "plt.xlabel(\"x\")\n",
    "plt.ylabel(\"sin(x)\")\n",
    "plt.grid(True)\n",
    "plt.legend()\n",
    "\n",
    "# Show plot\n",
    "plt.show()\n"
   ]
  }
 ],
 "metadata": {
  "kernelspec": {
   "display_name": "hello-pytorch",
   "language": "python",
   "name": "python3"
  },
  "language_info": {
   "codemirror_mode": {
    "name": "ipython",
    "version": 3
   },
   "file_extension": ".py",
   "mimetype": "text/x-python",
   "name": "python",
   "nbconvert_exporter": "python",
   "pygments_lexer": "ipython3",
   "version": "3.10.6"
  }
 },
 "nbformat": 4,
 "nbformat_minor": 2
}
