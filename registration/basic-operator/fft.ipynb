{
 "cells": [
  {
   "cell_type": "code",
   "execution_count": null,
   "metadata": {},
   "outputs": [],
   "source": [
    "import numpy as np\n",
    "import cv2\n",
    "from matplotlib import pyplot as plt\n",
    "\n",
    "def plot_spectrum(fshift):\n",
    "    \"\"\"用于绘制频谱图的辅助函数\"\"\"\n",
    "    magnitude_spectrum = 20 * np.log(np.abs(fshift))\n",
    "    plt.imshow(magnitude_spectrum, cmap='gray')\n",
    "    plt.title('Magnitude Spectrum')\n",
    "    plt.show()\n",
    "\n",
    "# 加载图像\n",
    "image = cv2.imread('path_to_image.jpg', cv2.IMREAD_GRAYSCALE)\n",
    "f = np.fft.fft2(image)\n",
    "fshift = np.fft.fftshift(f)\n",
    "\n",
    "# 显示原始频谱图\n",
    "plot_spectrum(fshift)\n",
    "\n",
    "# 创建一个低通滤波器掩码\n",
    "rows, cols = image.shape\n",
    "crow, ccol = rows // 2, cols // 2\n",
    "mask = np.zeros((rows, cols), np.uint8)\n",
    "mask[crow-30:crow+30, ccol-30:ccol+30] = 1\n",
    "\n",
    "# 应用滤波器并进行逆傅里叶变换\n",
    "fshift = fshift * mask\n",
    "f_ishift = np.fft.ifftshift(fshift)\n",
    "img_back = np.fft.ifft2(f_ishift)\n",
    "img_back = np.abs(img_back)\n",
    "\n",
    "# 显示结果\n",
    "plt.subplot(121), plt.imshow(image, cmap='gray'), plt.title('Original Image')\n",
    "plt.subplot(122), plt.imshow(img_back, cmap='gray'), plt.title('After HPF')\n",
    "plt.show()\n",
    "\n",
    "# 显示滤波后的频谱图\n",
    "plot_spectrum(fshift)\n"
   ]
  }
 ],
 "metadata": {
  "kernelspec": {
   "display_name": "pytorch2",
   "language": "python",
   "name": "python3"
  },
  "language_info": {
   "name": "python",
   "version": "3.10.13"
  }
 },
 "nbformat": 4,
 "nbformat_minor": 2
}
