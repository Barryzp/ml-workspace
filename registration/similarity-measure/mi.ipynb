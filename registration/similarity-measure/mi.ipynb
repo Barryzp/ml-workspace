{
 "cells": [
  {
   "cell_type": "code",
   "execution_count": 21,
   "metadata": {},
   "outputs": [
    {
     "name": "stdout",
     "output_type": "stream",
     "text": [
      "Mutual Information: 1.1381041190311791\n"
     ]
    }
   ],
   "source": [
    "import numpy as np\n",
    "import cv2\n",
    "\n",
    "def mutual_information(image1, image2, bins=256):\n",
    "    # Calculate the histogram of the images\n",
    "    hist_2d, _, _ = np.histogram2d(image1.ravel(), image2.ravel(), bins=bins)\n",
    "\n",
    "    # Calculate the joint probability distribution\n",
    "    pxy = hist_2d / float(np.sum(hist_2d))\n",
    "    px = np.sum(pxy, axis=1) # Marginal for x over y\n",
    "    py = np.sum(pxy, axis=0) # Marginal for y over x\n",
    "\n",
    "    # Calculate the mutual information\n",
    "    px_py = px[:, None] * py[None, :]\n",
    "    nzs = pxy > 0 # Non-zero joint probabilities\n",
    "    mi = np.sum(pxy[nzs] * np.log(pxy[nzs] / px_py[nzs]))\n",
    "\n",
    "    return mi\n",
    "\n",
    "# Load the images\n",
    "image1 = cv2.imread('images/3d-6.tif', cv2.IMREAD_GRAYSCALE)\n",
    "image2 = cv2.imread('images/3d-6-sharp.tif', cv2.IMREAD_GRAYSCALE)\n",
    "\n",
    "# Calculate mutual information\n",
    "mi = mutual_information(image1, image2)\n",
    "print(\"Mutual Information:\", mi)\n"
   ]
  },
  {
   "cell_type": "code",
   "execution_count": null,
   "metadata": {},
   "outputs": [],
   "source": []
  }
 ],
 "metadata": {
  "kernelspec": {
   "display_name": "hello-pytorch",
   "language": "python",
   "name": "python3"
  },
  "language_info": {
   "codemirror_mode": {
    "name": "ipython",
    "version": 3
   },
   "file_extension": ".py",
   "mimetype": "text/x-python",
   "name": "python",
   "nbconvert_exporter": "python",
   "pygments_lexer": "ipython3",
   "version": "3.10.6"
  }
 },
 "nbformat": 4,
 "nbformat_minor": 2
}
