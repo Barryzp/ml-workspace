{
 "cells": [
  {
   "cell_type": "code",
   "execution_count": 1,
   "metadata": {},
   "outputs": [
    {
     "name": "stdout",
     "output_type": "stream",
     "text": [
      "r_width: 78, r_height: 64\n",
      "H_Refer: 1.0899114322385377\n"
     ]
    }
   ],
   "source": [
    "from registration_framework import Registration\n",
    "from optims.cmaes_optim import CMAES\n",
    "from optims.pso_optim import PSO_optim\n",
    "from optims.ppso_optim import PPSO_optim\n",
    "from optims.ppso_optim_improved1 import PPSO_optim1, PPSO_optim2, PPSO_optim3, PPSO_optim1_1\n",
    "from utils.tools import Tools\n",
    "from utils.common_config import CommonConfig\n",
    "\n",
    "# 进行图像匹配的操作\n",
    "config = Tools.load_yaml_config(\"matched_config.yaml\")\n",
    "res_path = f\"{config.data_save_path}/{config.record_id}\"\n",
    "file_name = f\"{config.record_id}_config.yaml\"\n",
    "Tools.save_obj_yaml(res_path, file_name, config)\n",
    "\n"
   ]
  }
 ],
 "metadata": {
  "kernelspec": {
   "display_name": "pytorch2",
   "language": "python",
   "name": "python3"
  },
  "language_info": {
   "codemirror_mode": {
    "name": "ipython",
    "version": 3
   },
   "file_extension": ".py",
   "mimetype": "text/x-python",
   "name": "python",
   "nbconvert_exporter": "python",
   "pygments_lexer": "ipython3",
   "version": "3.10.13"
  }
 },
 "nbformat": 4,
 "nbformat_minor": 2
}
