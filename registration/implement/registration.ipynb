{
 "cells": [
  {
   "cell_type": "code",
   "execution_count": 1,
   "metadata": {},
   "outputs": [],
   "source": [
    "from registration_framework import Registration\n",
    "from pso_optim import PSO_optim\n",
    "\n",
    "# 配置，这个配置还是得分个类，不然难得管理，明天干吧 HACK\n",
    "class Config:\n",
    "    bins = 256\n",
    "    threshold = [128, 180]\n",
    "    bound = [0, 50]\n",
    "    lamda_mis = 5\n",
    "\n",
    "    start_index = 10\n",
    "    end_index = 49\n",
    "    data_path = \"D:/workspace/ml-workspace/registration/datasets\"\n",
    "    cement_sample_index = 4\n",
    "    sample_bse_index = 1\n",
    "    bse_zoom_times = 100\n",
    "\n",
    "    rotation_center_xy = (960.0, 960.0)\n",
    "    translate_delta = (20.0, 15.0, 10.0)\n",
    "\n",
    "    # 2d索引\n",
    "    ct_2d_index = 32\n",
    "\n",
    "config = Config()\n",
    "\n",
    "registration = Registration(config)\n",
    "pso = PSO_optim(registration, \"2d\")\n",
    "pso.run()\n"
   ]
  }
 ],
 "metadata": {
  "kernelspec": {
   "display_name": "pytorch2",
   "language": "python",
   "name": "python3"
  },
  "language_info": {
   "codemirror_mode": {
    "name": "ipython",
    "version": 3
   },
   "file_extension": ".py",
   "mimetype": "text/x-python",
   "name": "python",
   "nbconvert_exporter": "python",
   "pygments_lexer": "ipython3",
   "version": "3.10.13"
  }
 },
 "nbformat": 4,
 "nbformat_minor": 2
}
