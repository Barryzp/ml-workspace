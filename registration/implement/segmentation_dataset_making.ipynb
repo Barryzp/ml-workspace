{
 "cells": [
  {
   "cell_type": "code",
   "execution_count": 3,
   "metadata": {},
   "outputs": [],
   "source": [
    "# 数据集制作\n",
    "from utils.tools import Tools\n",
    "from image_enhanced.seg_dataset_making import CementSegDatasetMaking\n",
    "\n",
    "config = Tools.load_yaml_config(\"./configs/segmentation.yaml\")\n",
    "\n",
    "making_dataset = CementSegDatasetMaking(config)\n",
    "\n",
    "# making_dataset.show_seg_result()\n",
    "making_dataset.seg_cement_unhydrated_particale()"
   ]
  },
  {
   "cell_type": "code",
   "execution_count": 18,
   "metadata": {},
   "outputs": [
    {
     "name": "stdout",
     "output_type": "stream",
     "text": [
      "Connected Component 53 Mode Gray Value: 189 Frequency: 8770\n",
      "Connected Component 52 Mode Gray Value: 189 Frequency: 3860\n",
      "Connected Component 86 Mode Gray Value: 189 Frequency: 3148\n",
      "Connected Component 76 Mode Gray Value: 189 Frequency: 2351\n",
      "Connected Component 34 Mode Gray Value: 189 Frequency: 2192\n",
      "Connected Component 82 Mode Gray Value: 189 Frequency: 2114\n",
      "Connected Component 62 Mode Gray Value: 189 Frequency: 2072\n",
      "Connected Component 21 Mode Gray Value: 189 Frequency: 1930\n",
      "Connected Component 85 Mode Gray Value: 189 Frequency: 1827\n",
      "Connected Component 66 Mode Gray Value: 189 Frequency: 1726\n",
      "189\n"
     ]
    }
   ],
   "source": [
    "import cv2\n",
    "import numpy as np\n",
    "from scipy import stats\n",
    "import matplotlib.pyplot as plt\n",
    "\n",
    "file_path = \"D:/workspace/ml-workspace/registration/datasets/sample3/ct/matched\"\n",
    "path_1 = f\"{file_path}/125_mask_ct.bmp\"\n",
    "path_2 = f\"{file_path}/125_segment_ct.bmp\"\n",
    "\n",
    "# 读取二值图像和灰度图像\n",
    "binary_img = cv2.imread(path_1, cv2.IMREAD_GRAYSCALE)\n",
    "gray_img = cv2.imread(path_2, cv2.IMREAD_GRAYSCALE)\n",
    "\n",
    "# 检查两张图像的尺寸是否一致\n",
    "assert binary_img.shape == gray_img.shape, \"The binary and gray images must have the same dimensions\"\n",
    "\n",
    "# 计算连通组件及其统计信息\n",
    "num_labels, labels, stats_, centroids = cv2.connectedComponentsWithStats(binary_img, connectivity=4, ltype=cv2.CV_32S)\n",
    "\n",
    "# 获取连通组件的面积\n",
    "areas = stats_[:, cv2.CC_STAT_AREA]\n",
    "\n",
    "# 排除背景（标签0），获取前十个最大的连通组件的索引\n",
    "top_10_indices = np.argsort(areas[1:])[::-1][:10] + 1\n",
    "\n",
    "gray_stat = np.array([])\n",
    "\n",
    "# 遍历前十个最大的连通组件\n",
    "for idx in top_10_indices:\n",
    "    mask = (labels == idx).astype(np.uint8)  # 创建当前连通组件的掩码\n",
    "    component_pixels = gray_img[mask == 1]  # 获取连通组件内的所有灰度值\n",
    "    # 计算灰度直方图\n",
    "    hist = cv2.calcHist([component_pixels], [0], None, [256], [0, 256])\n",
    "\n",
    "    # 打印一些统计信息\n",
    "    mean_val = np.mean(component_pixels)\n",
    "    std_val = np.std(component_pixels)\n",
    "    # 计算众数\n",
    "    mode_result = stats.mode(component_pixels)\n",
    "    # mode_result.mode给出众数，mode_result.count给出对应的频次\n",
    "    most_common_value = mode_result.mode\n",
    "    frequency = mode_result.count\n",
    "\n",
    "    gray_stat = np.append(gray_stat, most_common_value)\n",
    "\n",
    "    print(f'Connected Component {idx} Mode Gray Value: {most_common_value} Frequency: {frequency}')\n",
    "    # print(f'Connected Component {idx} Mean Gray Value: {mean_val}')\n",
    "    # print(f'Connected Component {idx} Standard Deviation: {std_val}')\n",
    "    # print(f'Connected Component {idx} Area: {stats_[idx, cv2.CC_STAT_AREA]}')\n",
    "\n",
    "# 计算众数\n",
    "mode_result = stats.mode(gray_stat)\n",
    "\n",
    "print(int(mode_result.mode))"
   ]
  }
 ],
 "metadata": {
  "kernelspec": {
   "display_name": "pytorch2",
   "language": "python",
   "name": "python3"
  },
  "language_info": {
   "codemirror_mode": {
    "name": "ipython",
    "version": 3
   },
   "file_extension": ".py",
   "mimetype": "text/x-python",
   "name": "python",
   "nbconvert_exporter": "python",
   "pygments_lexer": "ipython3",
   "version": "3.10.13"
  }
 },
 "nbformat": 4,
 "nbformat_minor": 2
}
