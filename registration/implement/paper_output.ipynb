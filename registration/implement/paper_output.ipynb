{
 "cells": [
  {
   "cell_type": "code",
   "execution_count": null,
   "metadata": {},
   "outputs": [],
   "source": [
    "# 论文实验结果\n",
    "\n",
    "import numpy as np\n",
    "\n",
    "from optims.cso_optim import CSO_optim\n",
    "from optims.pso_optim import PSO_optim\n",
    "from optims.ppso_optim import PPSO_optim\n",
    "from optims.ppso_optim_improved1 import PPSO_optim1, PPSO_optim2, PPSO_optim3, PPSO_optim1_1\n",
    "from optims.ppso_optim_improved2 import PPSO_optim4, PPSO_optim5\n",
    "from optims.ppcso_optim import PPCSO_optim\n",
    "from utils.tools import Tools\n",
    "from utils.divergence_graph_paper import DivergenceTools\n",
    "\n",
    "# 进行图像匹配的操作\n",
    "config = Tools.load_yaml_config(\"configs/divergence_graph_config.yaml\")\n",
    "res_path = f\"{config.data_save_path}/{config.record_id}\"\n",
    "file_name = f\"{config.record_id}_config.yaml\"\n",
    "\n",
    "\n",
    "# （1）优化算法收敛图\n",
    "import os\n",
    "os.environ['KMP_DUPLICATE_LIB_OK']='True'\n",
    "divergence_tools = DivergenceTools(config)\n",
    "optim_classes = [PPSO_optim4] #[PPCSO_optim, PPSO_optim4, PPSO_optim5, PSO_optim, PPSO_optim, PPSO_optim1, PPSO_optim1_1, PPSO_optim2, PPSO_optim3, CSO_optim]\n",
    "method_names = []\n",
    "for optim_clas in optim_classes:\n",
    "    method_names.append(optim_clas.__name__)\n",
    "\n",
    "data_dict = divergence_tools.read_optims_fitness_FEs(method_names)\n",
    "divergence_tools.show_mean_convergence_line(data_dict, method_names, \"4-S1\", 15)"
   ]
  },
  {
   "cell_type": "code",
   "execution_count": null,
   "metadata": {},
   "outputs": [],
   "source": []
  }
 ],
 "metadata": {
  "kernelspec": {
   "display_name": "pytorch2",
   "language": "python",
   "name": "python3"
  },
  "language_info": {
   "codemirror_mode": {
    "name": "ipython",
    "version": 3
   },
   "file_extension": ".py",
   "mimetype": "text/x-python",
   "name": "python",
   "nbconvert_exporter": "python",
   "pygments_lexer": "ipython3",
   "version": "3.10.13"
  }
 },
 "nbformat": 4,
 "nbformat_minor": 2
}
