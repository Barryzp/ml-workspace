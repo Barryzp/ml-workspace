{
 "cells": [
  {
   "cell_type": "code",
   "execution_count": null,
   "metadata": {},
   "outputs": [],
   "source": [
    "from registration_framework import Registration\n",
    "from pso_optim import PSO_optim\n",
    "from utils.tools import Tools\n",
    "\n",
    "config = Tools.load_yaml_config(\"matched_config_test.yaml\")\n",
    "res_path = f\"{config.data_save_path}/{config.record_id}\"\n",
    "file_name = f\"{config.record_id}_config.yaml\"\n",
    "Tools.save_obj_yaml(res_path, file_name, config)\n",
    "\n",
    "registration = Registration(config)\n",
    "pso = PSO_optim(config)\n",
    "registration.set_optim_algorithm(pso)\n",
    "result = registration.registrate()\n"
   ]
  }
 ],
 "metadata": {
  "language_info": {
   "name": "python"
  }
 },
 "nbformat": 4,
 "nbformat_minor": 2
}
