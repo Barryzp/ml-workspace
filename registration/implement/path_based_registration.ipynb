{
 "cells": [
  {
   "cell_type": "code",
   "execution_count": null,
   "metadata": {},
   "outputs": [],
   "source": [
    "# 加载数据\n",
    "\n",
    "import itk\n",
    "import numpy as np\n",
    "import matplotlib.pyplot as plt\n",
    "import os, cv2\n",
    "os.environ['KMP_DUPLICATE_LIB_OK']='True'\n",
    "\n",
    "start_index = 10\n",
    "end_index = 50\n",
    "count = end_index - start_index + 1\n",
    "\n",
    "image_path = \"D:/workspace/ml-workspace/registration/datasets/sample4/ct/s1/\"\n",
    "image1 = cv2.imread(f\"{image_path}slice_10.bmp\", cv2.IMREAD_GRAYSCALE)\n",
    "image_filenames = [f\"{image_path}/slice_{start_index + i}.bmp\" for i in range(count)]\n",
    "image_shape = (len(image_filenames), image1.shape[0], image1.shape[1])\n",
    "\n",
    "image_array = np.zeros(image_shape, dtype=np.uint8)\n",
    "for i, filename in enumerate(image_filenames):\n",
    "    image_ = cv2.imread(filename, cv2.IMREAD_GRAYSCALE)\n",
    "    image_array[i] = image_\n",
    "\n",
    "itk_img = itk.image_from_array(image_array)\n"
   ]
  }
 ],
 "metadata": {
  "kernelspec": {
   "display_name": "pytorch2",
   "language": "python",
   "name": "python3"
  },
  "language_info": {
   "name": "python",
   "version": "3.10.13"
  }
 },
 "nbformat": 4,
 "nbformat_minor": 2
}
