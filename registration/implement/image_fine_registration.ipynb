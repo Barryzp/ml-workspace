{
 "cells": [
  {
   "cell_type": "code",
   "execution_count": 14,
   "metadata": {},
   "outputs": [],
   "source": [
    "import numpy as np \n",
    "from registration_framework import Registration\n",
    "from optims.cmaes_optim import CMAES\n",
    "from optims.pso_optim import PSO_optim\n",
    "from optims.ppso_optim import PPSO_optim\n",
    "from optims.ppso_optim_improved2 import PPSO_optim4\n",
    "from optims.cso_optim import CSO_optim\n",
    "from utils.tools import Tools\n",
    "from utils.common_config import CommonConfig\n",
    "from utils.visualize import VisualizeData"
   ]
  },
  {
   "cell_type": "code",
   "execution_count": 15,
   "metadata": {},
   "outputs": [
    {
     "name": "stdout",
     "output_type": "stream",
     "text": [
      "r_width: 78, r_height: 64\n",
      "H_Refer: 6.0143045479650645\n"
     ]
    }
   ],
   "source": [
    "# 进行图像匹配的操作\n",
    "config = Tools.load_yaml_config(\"configs/fine_reg_config.yaml\")\n",
    "config.max_fes = config.solution_dimension * 5000\n",
    "res_path = f\"{config.data_save_path}/{config.record_id}\"\n",
    "file_name = f\"{config.record_id}_config.yaml\"\n",
    "Tools.save_obj_yaml(res_path, file_name, config)\n",
    "\n",
    "registration = Registration(config)"
   ]
  },
  {
   "cell_type": "code",
   "execution_count": null,
   "metadata": {},
   "outputs": [],
   "source": [
    "import os\n",
    "import numpy as np\n",
    "os.environ['KMP_DUPLICATE_LIB_OK']='True'\n",
    "\n",
    "\n",
    "registration.fine_registrate(PPSO_optim4)"
   ]
  },
  {
   "cell_type": "code",
   "execution_count": null,
   "metadata": {},
   "outputs": [],
   "source": [
    "imgs = []\n",
    "imgs_name = []\n",
    "\n",
    "for i in range(3):\n",
    "    ds = 2**i\n",
    "    scale = 2** (3 - np.log2(ds))\n",
    "\n",
    "    slice_z = 6.25 * scale\n",
    "    print(f\"sliceZ: {slice_z}\")\n",
    "\n",
    "    # TEST\n",
    "    # ct_3d = registration.reg_3dct.get(ds)\n",
    "    # img = ct_3d[int(slice_z), :, :]\n",
    "\n",
    "    pos = np.array([91.65 * scale, 87 * scale, 6.25 * scale, -0.1054189786808674, -0.1401416009581744, 240.68028321131897])\n",
    "    cfgs = registration.build_pyramid_cfgs()\n",
    "    cfg = cfgs.get(ds)\n",
    "    cfg.translation = pos\n",
    "    img, slice_idx = registration.crop_slice_from_3dct_fine_reg(pos, cfg)\n",
    "    print(f\"slice: {slice_idx}\")\n",
    "    imgs.append(img)\n",
    "    imgs_name.append(f\"x{ds}\")\n",
    "gray = np.ones((len(imgs)))\n",
    "VisualizeData.show_imgs(imgs=imgs, imgs_name=imgs_name, gray=gray)"
   ]
  }
 ],
 "metadata": {
  "kernelspec": {
   "display_name": "pytorch2",
   "language": "python",
   "name": "python3"
  },
  "language_info": {
   "codemirror_mode": {
    "name": "ipython",
    "version": 3
   },
   "file_extension": ".py",
   "mimetype": "text/x-python",
   "name": "python",
   "nbconvert_exporter": "python",
   "pygments_lexer": "ipython3",
   "version": "3.10.13"
  }
 },
 "nbformat": 4,
 "nbformat_minor": 2
}
