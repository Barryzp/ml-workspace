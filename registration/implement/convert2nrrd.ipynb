{
 "cells": [
  {
   "cell_type": "code",
   "execution_count": 2,
   "metadata": {},
   "outputs": [],
   "source": [
    "import nrrd, cv2\n",
    "import numpy as np\n",
    "\n",
    "from utils.common_config import CommonConfig\n",
    "from utils.tools import Tools\n",
    "\n",
    "data_path = \"D:/workspace/ml-workspace/registration/datasets\"\n",
    "cement_id = 4\n",
    "custom_ct_image_path = f\"{data_path}/sample{cement_id}/ct/matched\"\n",
    "\n",
    "cement_id_range = CommonConfig.get_range(cement_id)\n",
    "\n",
    "# 读取文件并转化成nrrd文件，以便于3d slicer来进行显示\n",
    "\n",
    "\n",
    "# 初始切片索引\n",
    "start_slice_id = cement_id_range[0]\n",
    "# 终止切片索引\n",
    "end_slice_id = 1364#cement_id_range[-1]\n",
    "total_image_num = end_slice_id - start_slice_id\n",
    "\n",
    "# 下采样间隔\n",
    "sample_interval = 4\n",
    "loop_times = total_image_num // sample_interval\n",
    "\n",
    "# 找到对应的文件前缀\n",
    "slice_preffix = \"slice\"\n",
    "\n",
    "# 分为自定义的文件图像和读取硬盘中的CT图像，两种读取类型是不同的，这是由于CT图像的前缀名和格式不同\n",
    "custom_mode = False\n",
    "\n",
    "ct_imgs = []\n",
    "for i in range(loop_times):\n",
    "    slice_index = start_slice_id + i * sample_interval\n",
    "\n",
    "    ori_ct_img = None\n",
    "    if custom_mode :\n",
    "        file_name = f\"{custom_ct_image_path}/{slice_preffix}_{slice_index}.bmp\"\n",
    "        ori_ct_img = cv2.imread(file_name, cv2.IMREAD_GRAYSCALE)\n",
    "    else:\n",
    "        ori_ct_img = CommonConfig.get_cement_ct_slice(cement_id, slice_index)\n",
    "    # 对图像进行下采样\n",
    "    downsp_img = Tools.downsample_image(ori_ct_img, sample_interval)\n",
    "    ct_imgs.append(downsp_img)\n",
    "\n",
    "# 叠加构成三维体素\n",
    "ct3d = np.stack(ct_imgs, axis=0)\n",
    "\n",
    "nrrd_save_path = f\"{data_path}/sample{cement_id}/nrrd\"\n",
    "nrrd_file_name = f\"test{cement_id}.nrrd\"\n",
    "\n",
    "# 进行读取并转换成nrrd格式的文件\n",
    "nrrd.write(f\"{nrrd_save_path}/{nrrd_file_name}\", ct3d)\n"
   ]
  }
 ],
 "metadata": {
  "kernelspec": {
   "display_name": "pytorch2",
   "language": "python",
   "name": "python3"
  },
  "language_info": {
   "codemirror_mode": {
    "name": "ipython",
    "version": 3
   },
   "file_extension": ".py",
   "mimetype": "text/x-python",
   "name": "python",
   "nbconvert_exporter": "python",
   "pygments_lexer": "ipython3",
   "version": "3.10.13"
  }
 },
 "nbformat": 4,
 "nbformat_minor": 2
}
